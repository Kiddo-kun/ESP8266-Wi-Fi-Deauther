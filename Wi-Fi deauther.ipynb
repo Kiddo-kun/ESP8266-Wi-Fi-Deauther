{
  "nbformat": 4,
  "nbformat_minor": 0,
  "metadata": {
    "colab": {
      "provenance": []
    },
    "kernelspec": {
      "name": "python3",
      "display_name": "Python 3"
    },
    "language_info": {
      "name": "python"
    }
  },
  "cells": [
    {
      "cell_type": "code",
      "execution_count": null,
      "metadata": {
        "id": "8PUZfHyOCA2q"
      },
      "outputs": [],
      "source": [
        "# ESP8266 Wi-Fi Deauther Lab Notebook\n",
        "\n",
        "This Jupyter Notebook demonstrates basic tasks related to the ESP8266 Wi-Fi Deauther project, including:\n",
        "\n",
        "- Flashing firmware using `esptool.py`\n",
        "- Simulating Wi-Fi network scanning (with `scapy`)\n",
        "- Notes for penetration testing labs\n",
        "\n",
        "> ⚠️ **Note:** Ensure you are using a supported interface (e.g., `wlan0mon`) and have root permissions when running real packet sniffing tools.\n"
      ]
    },
    {
      "cell_type": "code",
      "source": [
        "# Flashing firmware to ESP8266 (edit COM port or path as needed)\n",
        "\n",
        "!esptool.py --port COM3 write_flash 0x00000 firmware/deauther_v1.bin\n"
      ],
      "metadata": {
        "id": "L-fNRcCsCGQ6"
      },
      "execution_count": null,
      "outputs": []
    },
    {
      "cell_type": "code",
      "source": [
        "from scapy.all import *\n",
        "\n",
        "def sniff_wifi(pkt):\n",
        "    if pkt.haslayer(Dot11Beacon):\n",
        "        ssid = pkt[Dot11Elt].info.decode(errors='ignore')\n",
        "        bssid = pkt[Dot11].addr2\n",
        "        print(f\"SSID: {ssid}, BSSID: {bssid}\")\n",
        "\n",
        "# This command requires monitor mode and root privileges\n",
        "# Uncomment the line below in a real testing environment\n",
        "# sniff(iface=\"wlan0mon\", prn=sniff_wifi, timeout=10)\n"
      ],
      "metadata": {
        "id": "M8mF_8tWCJcy"
      },
      "execution_count": null,
      "outputs": []
    },
    {
      "cell_type": "code",
      "source": [
        "### 🔐 Ethical Usage\n",
        "\n",
        "- Only test on networks you **own** or have **explicit permission** to audit.\n",
        "- Deauth attacks are **illegal** on public or third-party networks.\n",
        "- This notebook is for **educational and authorized penetration testing** only.\n"
      ],
      "metadata": {
        "id": "136u8b2XCMKM"
      },
      "execution_count": null,
      "outputs": []
    }
  ]
}